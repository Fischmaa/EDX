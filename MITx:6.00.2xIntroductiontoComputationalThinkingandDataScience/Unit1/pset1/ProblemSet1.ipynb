{
 "cells": [
  {
   "cell_type": "code",
   "execution_count": 1,
   "metadata": {
    "collapsed": true
   },
   "outputs": [],
   "source": [
    "###########################\n",
    "# 6.00.2x Problem Set 1: Space Cows \n",
    "\n",
    "from ps1_partition import get_partitions\n",
    "import time\n",
    "\n",
    "#================================\n",
    "# Part A: Transporting Space Cows\n",
    "#================================\n",
    "\n",
    "def load_cows(filename):\n",
    "    \"\"\"\n",
    "    Read the contents of the given file.  Assumes the file contents contain\n",
    "    data in the form of comma-separated cow name, weight pairs, and return a\n",
    "    dictionary containing cow names as keys and corresponding weights as values.\n",
    "\n",
    "    Parameters:\n",
    "    filename - the name of the data file as a string\n",
    "\n",
    "    Returns:\n",
    "    a dictionary of cow name (string), weight (int) pairs\n",
    "    \"\"\"\n",
    "\n",
    "    cow_dict = dict()\n",
    "\n",
    "    f = open(filename, 'r')\n",
    "    \n",
    "    for line in f:\n",
    "        line_data = line.split(',')\n",
    "        cow_dict[line_data[0]] = int(line_data[1])\n",
    "    return cow_dict"
   ]
  },
  {
   "cell_type": "code",
   "execution_count": 6,
   "metadata": {
    "collapsed": true
   },
   "outputs": [],
   "source": [
    "cows = load_cows(\"ps1_cow_data.txt\")"
   ]
  },
  {
   "cell_type": "code",
   "execution_count": 2,
   "metadata": {
    "collapsed": false
   },
   "outputs": [
    {
     "name": "stdout",
     "output_type": "stream",
     "text": [
      "[[2, 1, 1]]\n",
      "[[1, 1], [2]]\n",
      "[[2, 1], [1]]\n",
      "[[1], [2, 1]]\n",
      "[[1], [1], [2]]\n"
     ]
    }
   ],
   "source": [
    "\t#From codereview.stackexchange.com                    \n",
    "def partitions(set_):\n",
    "    if not set_:\n",
    "        yield []\n",
    "        return\n",
    "    for i in range(2**len(set_)//2):\n",
    "        parts = [list(), list()]\n",
    "        for item in set_:\n",
    "            parts[i&1].append(item)\n",
    "            i >>= 1\n",
    "        for b in partitions(parts[1]):\n",
    "            yield [parts[0]]+b\n",
    "\n",
    "\n",
    "# This is a helper function that will fetch all of the available \n",
    "# partitions for you to use for your brute force algorithm.\n",
    "def get_partitions(set_):\n",
    "    for partition in partitions(set_):\n",
    "        yield [list(elt) for elt in partition]\n",
    "\n",
    "### Uncomment the following code  and run this file\n",
    "### to see what get_partitions does if you want to visualize it:\n",
    "a=get_partitions([2,1,1,4])\n",
    "for item in (get_partitions([2,1,1])):\n",
    "    print(item)\n",
    "            "
   ]
  },
  {
   "cell_type": "code",
   "execution_count": 3,
   "metadata": {
    "collapsed": false
   },
   "outputs": [],
   "source": [
    "def greedy_cow_transport(cows,limit=10):\n",
    "    \"\"\"\n",
    "    Uses a greedy heuristic to determine an allocation of cows that attempts to\n",
    "    minimize the number of spaceship trips needed to transport all the cows. The\n",
    "    returned allocation of cows may or may not be optimal.\n",
    "    The greedy heuristic should follow the following method:\n",
    "\n",
    "    1. As long as the current trip can fit another cow, add the largest cow that will fit\n",
    "        to the trip\n",
    "    2. Once the trip is full, begin a new trip to transport the remaining cows\n",
    "\n",
    "    Does not mutate the given dictionary of cows.\n",
    "\n",
    "    Parameters:\n",
    "    cows - a dictionary of name (string), weight (int) pairs\n",
    "    limit - weight limit of the spaceship (an int)\n",
    "    \n",
    "    Returns:\n",
    "    A list of lists, with each inner list containing the names of cows\n",
    "    transported on a particular trip and the overall list containing all the\n",
    "    trips\n",
    "    \"\"\"\n",
    "    available = []; # remaining cows \n",
    "    for elem in cows:\n",
    "        available.append(cows[elem]);\n",
    "    \n",
    "    available.sort() # sort the list from lowest to greatest \n",
    "    available.reverse() # reverse the list\n",
    "    trips = []; # final output\n",
    "    compt = len(available)\n",
    "    toRemove=[];\n",
    "    while compt>0:\n",
    "        lim = limit;\n",
    "        trip = [];\n",
    "        toRemove=[];\n",
    "        for i in available:\n",
    "            if i<=lim and lim>0:\n",
    "                trip.append(i);\n",
    "                toRemove.append(i);\n",
    "                lim = lim - i;\n",
    "                compt-=1;\n",
    "                \n",
    "        for i in toRemove:\n",
    "            available.remove(i);\n",
    "        trips.append(trip);\n",
    "        \n",
    "        \n",
    "    notAvailableName = []\n",
    "    tripsName = []\n",
    "    for i in trips:\n",
    "        tripName=[]\n",
    "        for j in i :\n",
    "            for elem in cows:\n",
    "                if cows[elem]==j:\n",
    "                    try:\n",
    "                        notAvailableName.index(elem);\n",
    "                    except ValueError:\n",
    "                        tripName.append(elem)\n",
    "                        notAvailableName.append(elem);\n",
    "                        break;\n",
    "                        \n",
    "        tripsName.append(tripName);           \n",
    "            \n",
    "    return tripsName;"
   ]
  },
  {
   "cell_type": "code",
   "execution_count": 7,
   "metadata": {
    "collapsed": false
   },
   "outputs": [],
   "source": [
    "#From codereview.stackexchange.com                    \n",
    "def partitions(set_):\n",
    "    if not set_:\n",
    "        yield []\n",
    "        return\n",
    "    for i in range(2**len(set_)//2):\n",
    "        parts = [set(), set()]\n",
    "        for item in set_:\n",
    "            parts[i&1].add(item)\n",
    "            i >>= 1\n",
    "        for b in partitions(parts[1]):\n",
    "            yield [parts[0]]+b\n",
    "\n",
    "\n",
    "# This is a helper function that will fetch all of the available \n",
    "# partitions for you to use for your brute force algorithm.\n",
    "def get_partitions(set_):\n",
    "    for partition in partitions(set_):\n",
    "        yield [list(elt) for elt in partition]"
   ]
  },
  {
   "cell_type": "code",
   "execution_count": 55,
   "metadata": {
    "collapsed": true
   },
   "outputs": [],
   "source": [
    "def getPartitions(set_):\n",
    "    partitions = get_partitions(set_);\n",
    "    for partition in partitions:\n",
    "        lists=[];\n",
    "        for elem in partition:\n",
    "            list=[]\n",
    "            for value in elem:\n",
    "                list.append(set_[str(value)])\n",
    "            lists.append(list)\n",
    "        yield lists"
   ]
  },
  {
   "cell_type": "code",
   "execution_count": 64,
   "metadata": {
    "collapsed": false
   },
   "outputs": [],
   "source": [
    "def brute_force_cow_transport(cows,limit=10):\n",
    "    \"\"\"\n",
    "    Finds the allocation of cows that minimizes the number of spaceship trips\n",
    "    via brute force.  The brute force algorithm should follow the following method:\n",
    "\n",
    "    1. Enumerate all possible ways that the cows can be divided into separate trips\n",
    "    2. Select the allocation that minimizes the number of trips without making any trip\n",
    "        that does not obey the weight limitation\n",
    "            \n",
    "    Does not mutate the given dictionary of cows.\n",
    "\n",
    "    Parameters:\n",
    "    cows - a dictionary of name (string), weight (int) pairs\n",
    "    limit - weight limit of the spaceship (an int)\n",
    "    \n",
    "    Returns:\n",
    "    A list of lists, with each inner list containing the names of cows\n",
    "    transported on a particular trip and the overall list containing all the\n",
    "    trips\n",
    "    \"\"\"\n",
    "\n",
    "    def getPartitions(set_):\n",
    "        partitions = get_partitions(set_);\n",
    "        for partition in partitions:\n",
    "            lists=[];\n",
    "            for elem in partition:\n",
    "                list=[]\n",
    "                for value in elem:\n",
    "                    list.append(set_[str(value)])\n",
    "                lists.append(list)\n",
    "                yield lists\n",
    "            \n",
    "    partitions = getPartitions(cows);\n",
    "    trips=[];\n",
    "    done=False;\n",
    "    for elem in partitions:\n",
    "        if done!=True:\n",
    "            impossible=False;\n",
    "            for l in elem:\n",
    "                if (sum(l)>limit):\n",
    "                    impossible=True;\n",
    "            if(impossible!=True):\n",
    "                done=True;\n",
    "                trips = elem;\n",
    "                \n",
    "    notAvailableName = []\n",
    "    tripsName = []\n",
    "    for i in trips:\n",
    "        tripName=[]\n",
    "        for j in i :\n",
    "            for elem in cows:\n",
    "                if cows[elem]==j:\n",
    "                    try:\n",
    "                        notAvailableName.index(elem);\n",
    "                    except ValueError:\n",
    "                        tripName.append(elem)\n",
    "                        notAvailableName.append(elem);\n",
    "                        break;\n",
    "                        \n",
    "        tripsName.append(tripName);           \n",
    "            \n",
    "    return tripsName;\n",
    "        "
   ]
  },
  {
   "cell_type": "code",
   "execution_count": 74,
   "metadata": {
    "collapsed": true
   },
   "outputs": [],
   "source": [
    "import time\n",
    "\n",
    "def compare_cow_transport_algorithms():\n",
    "    \"\"\"\n",
    "    Using the data from ps1_cow_data.txt and the specified weight limit, run your\n",
    "    greedy_cow_transport and brute_force_cow_transport functions here. Use the\n",
    "    default weight limits of 10 for both greedy_cow_transport and\n",
    "    brute_force_cow_transport.\n",
    "    \n",
    "    Print out the number of trips returned by each method, and how long each\n",
    "    method takes to run in seconds.\n",
    "\n",
    "    Returns:\n",
    "    Does not return anything.\n",
    "    \"\"\"\n",
    "    cows = load_cows(\"ps1_cow_data.txt\")\n",
    "    start = time.time()\n",
    "    greedyTrips = len(greedy_cow_transport(cows,10))\n",
    "    end = time.time()\n",
    "    timeGreedy = end - start\n",
    "    \n",
    "    start= time.time()\n",
    "    bruteFroceTrips = len(brute_force_cow_transport(cows,10))\n",
    "    end = time.time()\n",
    "    timeBruteForce = end - start\n",
    "\n",
    "    print(\"number of trips for greedy algorithm : \"+str(greedyTrips))\n",
    "    print(\"time for greedy algorithm : \"+str(timeGreedy))\n",
    "    print(\"number of trips for brute force algorithm : \"+str(bruteFroceTrips))\n",
    "    print(\"time for brute force algorithm : \"+str(timeBruteForce))\n",
    "    "
   ]
  },
  {
   "cell_type": "code",
   "execution_count": 75,
   "metadata": {
    "collapsed": false
   },
   "outputs": [
    {
     "name": "stdout",
     "output_type": "stream",
     "text": [
      "number of trips for greedy algorithm : 6\n",
      "time for greedy algorithm : 0.00010943412780761719\n",
      "number of trips for brute force algorithm : 2\n",
      "time for brute force algorithm : 1.7036020755767822\n"
     ]
    }
   ],
   "source": [
    "compare_cow_transport_algorithms()"
   ]
  },
  {
   "cell_type": "code",
   "execution_count": null,
   "metadata": {
    "collapsed": false,
    "scrolled": false
   },
   "outputs": [],
   "source": [
    "cows = load_cows(\"ps1_cow_data.txt\")\n",
    "limit=10\n",
    "\n",
    "print(brute_force_cow_transport({'Daisy': 50, 'Betsy': 65, 'Buttercup': 72}, 75))"
   ]
  },
  {
   "cell_type": "code",
   "execution_count": null,
   "metadata": {
    "collapsed": false
   },
   "outputs": [],
   "source": [
    "brute_force_cow_transport({'Miss Bella': 25, 'Milkshake': 40, 'MooMoo': 50, 'Horns': 25, 'Lotus': 40, 'Boo': 20}, 100)\n"
   ]
  },
  {
   "cell_type": "code",
   "execution_count": null,
   "metadata": {
    "collapsed": false,
    "scrolled": false
   },
   "outputs": [],
   "source": [
    "greedy_cow_transport({'Horns': 50, 'Louis': 45}, 100)"
   ]
  },
  {
   "cell_type": "code",
   "execution_count": 1,
   "metadata": {
    "collapsed": true
   },
   "outputs": [],
   "source": [
    "import random "
   ]
  },
  {
   "cell_type": "code",
   "execution_count": 9,
   "metadata": {
    "collapsed": false
   },
   "outputs": [],
   "source": [
    "list=[]\n",
    "for i in range(0,100):\n",
    "    if i%2 == 0:\n",
    "        list.append(i);"
   ]
  },
  {
   "cell_type": "code",
   "execution_count": 10,
   "metadata": {
    "collapsed": false
   },
   "outputs": [
    {
     "name": "stdout",
     "output_type": "stream",
     "text": [
      "[0, 2, 4, 6, 8, 10, 12, 14, 16, 18, 20, 22, 24, 26, 28, 30, 32, 34, 36, 38, 40, 42, 44, 46, 48, 50, 52, 54, 56, 58, 60, 62, 64, 66, 68, 70, 72, 74, 76, 78, 80, 82, 84, 86, 88, 90, 92, 94, 96, 98]\n"
     ]
    }
   ],
   "source": [
    "print(list)"
   ]
  },
  {
   "cell_type": "code",
   "execution_count": 72,
   "metadata": {
    "collapsed": false
   },
   "outputs": [
    {
     "name": "stdout",
     "output_type": "stream",
     "text": [
      "3\n"
     ]
    }
   ],
   "source": [
    "print(int(random.random()*10))"
   ]
  }
 ],
 "metadata": {
  "kernelspec": {
   "display_name": "Python 3",
   "language": "python",
   "name": "python3"
  },
  "language_info": {
   "codemirror_mode": {
    "name": "ipython",
    "version": 3
   },
   "file_extension": ".py",
   "mimetype": "text/x-python",
   "name": "python",
   "nbconvert_exporter": "python",
   "pygments_lexer": "ipython3",
   "version": "3.5.2"
  }
 },
 "nbformat": 4,
 "nbformat_minor": 0
}
