{
 "cells": [
  {
   "cell_type": "code",
   "execution_count": 15,
   "metadata": {
    "collapsed": true
   },
   "outputs": [],
   "source": [
    "import pylab, random\n",
    "random.seed(0)\n",
    "\n",
    "####################\n",
    "## Helper functions#\n",
    "####################\n",
    "def flipCoin(numFlips):\n",
    "    '''\n",
    "    Returns the result of numFlips coin flips of a biased coin.\n",
    "\n",
    "    numFlips (int): the number of times to flip the coin.\n",
    "\n",
    "    returns: a list of length numFlips, where values are either 1 or 0,\n",
    "    with 1 indicating Heads and 0 indicating Tails.\n",
    "    '''\n",
    "    with open('coin_flips.txt','r') as f:\n",
    "        all_flips = f.read()\n",
    "    flips = random.sample(all_flips, numFlips)\n",
    "    return [int(flip == 'H') for flip in flips]\n",
    "\n",
    "\n",
    "def getMeanAndStd(X):\n",
    "    mean = sum(X)/float(len(X))\n",
    "    tot = 0.0\n",
    "    for x in X:\n",
    "        tot += (x - mean)**2\n",
    "    std = (tot/len(X))**0.5\n",
    "    return mean, std\n",
    "\n",
    "    \n",
    "#############################\n",
    "## CLT Hands-on\t\t     #\n",
    "##\t\t\t\t     #\n",
    "## Fill in the missing code #\n",
    "## Do not use numpy/pylab   #\n",
    "#############################\n",
    "meanOfMeans, stdOfMeans = [], []\n",
    "sampleSizes = range(10, 500, 50)"
   ]
  },
  {
   "cell_type": "code",
   "execution_count": 11,
   "metadata": {
    "collapsed": false
   },
   "outputs": [
    {
     "data": {
      "text/plain": [
       "[0, 1]"
      ]
     },
     "execution_count": 11,
     "metadata": {},
     "output_type": "execute_result"
    }
   ],
   "source": [
    "list((0,1))"
   ]
  },
  {
   "cell_type": "code",
   "execution_count": 17,
   "metadata": {
    "collapsed": false
   },
   "outputs": [],
   "source": [
    "def clt():\n",
    "    for sampleSize in sampleSizes:\n",
    "        sampleMeans = []\n",
    "        for t in range(20):\n",
    "            sample = flipCoin(sampleSize)\n",
    "            sampleMeans.append(getMeanAndStd(sample)[0])\n",
    "        meanOfMeans.append(getMeanAndStd(sampleMeans)[0])\n",
    "        stdOfMeans.append(getMeanAndStd(sampleMeans)[1])\n",
    "\n",
    "clt()\n",
    "pylab.figure(1)\n",
    "pylab.errorbar(sampleSizes, meanOfMeans,\n",
    "               yerr = 1.96*pylab.array(stdOfMeans),\n",
    "               label = 'Est. mean and 95% confidence interval')\n",
    "pylab.xlim(0, max(sampleSizes) + 50)\n",
    "pylab.axhline(0.65, linestyle = '--',\n",
    "              label = 'True probability of Heads')\n",
    "pylab.title('Estimates of Probability of Heads')\n",
    "pylab.xlabel('Sample Size')\n",
    "pylab.ylabel('Fraction of Heads (minutes)')\n",
    "pylab.legend(loc = 'best')\n",
    "pylab.show()"
   ]
  }
 ],
 "metadata": {
  "kernelspec": {
   "display_name": "Python 3",
   "language": "python",
   "name": "python3"
  },
  "language_info": {
   "codemirror_mode": {
    "name": "ipython",
    "version": 3
   },
   "file_extension": ".py",
   "mimetype": "text/x-python",
   "name": "python",
   "nbconvert_exporter": "python",
   "pygments_lexer": "ipython3",
   "version": "3.5.2"
  }
 },
 "nbformat": 4,
 "nbformat_minor": 0
}
