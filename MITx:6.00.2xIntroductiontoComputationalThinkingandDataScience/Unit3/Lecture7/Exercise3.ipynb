{
 "cells": [
  {
   "cell_type": "code",
   "execution_count": 25,
   "metadata": {
    "collapsed": true
   },
   "outputs": [],
   "source": [
    "import math\n",
    "def stdDevOfLengths(L):\n",
    "    if len(L)==0:\n",
    "        return float('NaN');\n",
    "    else:\n",
    "        mean = 0  ;\n",
    "        for i in L : \n",
    "            mean += len(i);\n",
    "        \n",
    "        mean /= len(L)\n",
    "        stdDev = 0 ;\n",
    "        for i in L :\n",
    "            stdDev += (len(i) - mean)**2\n",
    "        stdDev = math.sqrt(stdDev/len(L))\n",
    "        return stdDev ,mean ;"
   ]
  },
  {
   "cell_type": "code",
   "execution_count": 29,
   "metadata": {
    "collapsed": false
   },
   "outputs": [
    {
     "data": {
      "text/plain": [
       "0.5034317492677621"
      ]
     },
     "execution_count": 29,
     "metadata": {},
     "output_type": "execute_result"
    }
   ],
   "source": [
    " L = ['aaaaaaaaaa', 'aaaa', 'aaaaaaaaaaaa', 'aaaaaaaaaaaaaaa', 'aaaaaaaaaaaaaaaaaaaa', 'aaaaa']\n",
    "stdDevOfLengths(L)[0]/stdDevOfLengths(L)[1]"
   ]
  },
  {
   "cell_type": "code",
   "execution_count": 6,
   "metadata": {
    "collapsed": true
   },
   "outputs": [],
   "source": [
    "import math"
   ]
  }
 ],
 "metadata": {
  "kernelspec": {
   "display_name": "Python 3",
   "language": "python",
   "name": "python3"
  },
  "language_info": {
   "codemirror_mode": {
    "name": "ipython",
    "version": 3
   },
   "file_extension": ".py",
   "mimetype": "text/x-python",
   "name": "python",
   "nbconvert_exporter": "python",
   "pygments_lexer": "ipython3",
   "version": "3.5.2"
  }
 },
 "nbformat": 4,
 "nbformat_minor": 0
}
