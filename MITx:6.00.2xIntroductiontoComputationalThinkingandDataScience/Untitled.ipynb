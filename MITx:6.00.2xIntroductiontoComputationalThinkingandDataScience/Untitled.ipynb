{
 "cells": [
  {
   "cell_type": "code",
   "execution_count": 1,
   "metadata": {
    "collapsed": false
   },
   "outputs": [
    {
     "data": {
      "text/plain": [
       "0.032407407407407406"
      ]
     },
     "execution_count": 1,
     "metadata": {},
     "output_type": "execute_result"
    }
   ],
   "source": [
    "(2+5)/(6*6*6)"
   ]
  },
  {
   "cell_type": "code",
   "execution_count": 63,
   "metadata": {
    "collapsed": false
   },
   "outputs": [
    {
     "name": "stdout",
     "output_type": "stream",
     "text": [
      "[('Roar', 4.4, 4.0), ('Sail', 3.5, 7.7), ('Timber', 5.1, 6.9), ('Wannabe', 2.7, 1.2)]\n"
     ]
    },
    {
     "data": {
      "text/plain": [
       "[('Roar', 4.4, 4.0),\n",
       " ('Sail', 3.5, 7.7),\n",
       " ('Timber', 5.1, 6.9),\n",
       " ('Wannabe', 2.7, 1.2)]"
      ]
     },
     "execution_count": 63,
     "metadata": {},
     "output_type": "execute_result"
    }
   ],
   "source": [
    "songs = [('Roar',4.4, 4.0),('Sail',3.5, 7.7),('Timber', 5.1, 6.9),('Wannabe',2.7, 1.2)]\n",
    "print(songs)\n",
    "songs.sort()\n",
    "songs\n"
   ]
  },
  {
   "cell_type": "code",
   "execution_count": 67,
   "metadata": {
    "collapsed": false
   },
   "outputs": [],
   "source": [
    "def song_playlist(songs, max_size):\n",
    "    \"\"\"\n",
    "    songs: list of tuples, ('song_name', song_len, song_size)\n",
    "    max_size: float, maximum size of total songs that you can fit\n",
    "\n",
    "    Start with the song first in the 'songs' list, then pick the next \n",
    "    song to be the one with the lowest file size not already picked, repeat\n",
    "    \n",
    "    Returns: a list of a subset of songs fitting in 'max_size' in the order \n",
    "             in which they were chosen.\n",
    "    \"\"\"\n",
    "    playlist = []\n",
    "    if songs[0][2]>max_size:\n",
    "        return [];\n",
    "    playlist.append(songs[0][0]);\n",
    "    playlistSize = songs[0][2];\n",
    "    size = []\n",
    "    for i in range(1,len(songs)):\n",
    "        size.append(songs[i][2])\n",
    "    size.sort()\n",
    "    compt = 1 ;\n",
    "    for i in size:\n",
    "        if i + playlistSize > max_size:\n",
    "            break;\n",
    "        else:\n",
    "            for j in range(1,len(songs)):\n",
    "                if songs[j][2] == i:\n",
    "                    playlist.append(songs[j][0])\n",
    "                    playlistSize += i ;\n",
    "    return playlist;\n",
    "        "
   ]
  },
  {
   "cell_type": "code",
   "execution_count": 68,
   "metadata": {
    "collapsed": false
   },
   "outputs": [
    {
     "data": {
      "text/plain": [
       "['Roar', 'Wannabe']"
      ]
     },
     "execution_count": 68,
     "metadata": {},
     "output_type": "execute_result"
    }
   ],
   "source": [
    "song_playlist([('Roar',4.4, 4.0),('Sail',3.5, 7.7),('Timber', 5.1, 6.9),('Wannabe',2.7, 1.2)], 11)"
   ]
  },
  {
   "cell_type": "code",
   "execution_count": 75,
   "metadata": {
    "collapsed": false
   },
   "outputs": [
    {
     "name": "stdout",
     "output_type": "stream",
     "text": [
      "0\n",
      "1\n",
      "2\n"
     ]
    }
   ],
   "source": [
    "list=[1,2,2]\n",
    "for i in range(0,len(list)):\n",
    "    print(i)"
   ]
  },
  {
   "cell_type": "code",
   "execution_count": 104,
   "metadata": {
    "collapsed": true
   },
   "outputs": [],
   "source": [
    "def greedySum(L, s):\n",
    "    \"\"\" input: s, positive integer, what the sum should add up to\n",
    "               L, list of unique positive integers sorted in descending order\n",
    "        Use the greedy approach where you find the largest multiplier for \n",
    "        the largest value in L then for the second largest, and so on to \n",
    "        solve the equation s = L[0]*m_0 + L[1]*m_1 + ... + L[n-1]*m_(n-1)\n",
    "        return: the sum of the multipliers or \"no solution\" if greedy approach does \n",
    "                not yield a set of multipliers such that the equation sums to 's'\n",
    "    \"\"\"\n",
    "    m = [];\n",
    "    sum = s\n",
    "    for i in L : \n",
    "        m.append(sum//i);\n",
    "        sum -= i*(sum//i)\n",
    "    finalSum = 0\n",
    "    sumOfm = 0\n",
    "    for i in range(0,len(L)):\n",
    "        finalSum +=L[i]*m[i]\n",
    "        sumOfm += m[i]\n",
    "    if finalSum == s:\n",
    "        return sumOfm;\n",
    "    else:\n",
    "        return \"no solution\""
   ]
  },
  {
   "cell_type": "code",
   "execution_count": 105,
   "metadata": {
    "collapsed": false
   },
   "outputs": [
    {
     "data": {
      "text/plain": [
       "36"
      ]
     },
     "execution_count": 105,
     "metadata": {},
     "output_type": "execute_result"
    }
   ],
   "source": [
    "greedySum([101, 51, 11, 2, 1], 3000)"
   ]
  },
  {
   "cell_type": "code",
   "execution_count": 128,
   "metadata": {
    "collapsed": false
   },
   "outputs": [
    {
     "name": "stdout",
     "output_type": "stream",
     "text": [
      "10\n",
      "9\n",
      "8\n",
      "7\n",
      "6\n",
      "5\n",
      "4\n",
      "3\n",
      "2\n"
     ]
    }
   ],
   "source": [
    "for i in range(10,1,-1):\n",
    "    print(i)"
   ]
  },
  {
   "cell_type": "code",
   "execution_count": 155,
   "metadata": {
    "collapsed": true
   },
   "outputs": [],
   "source": [
    "def max_contig_sum(L):\n",
    "    \"\"\" L, a list of integers, at least one positive\n",
    "    Returns the maximum sum of a contiguous subsequence in L \"\"\"\n",
    "    max = 0\n",
    "    for i in range(0,len(L)):\n",
    "        for j in range(len(L),i-1,-1):\n",
    "            if (sum(L[i:j]) > max):\n",
    "                max=sum(L[i:j])\n",
    "    \n",
    "    return max;"
   ]
  },
  {
   "cell_type": "code",
   "execution_count": 138,
   "metadata": {
    "collapsed": false
   },
   "outputs": [
    {
     "data": {
      "text/plain": [
       "[4, -1, 5]"
      ]
     },
     "execution_count": 138,
     "metadata": {},
     "output_type": "execute_result"
    }
   ],
   "source": [
    "L = [3, 4, -1, 5, -4]\n",
    "L[1:4]"
   ]
  },
  {
   "cell_type": "code",
   "execution_count": 156,
   "metadata": {
    "collapsed": false
   },
   "outputs": [
    {
     "data": {
      "text/plain": [
       "16"
      ]
     },
     "execution_count": 156,
     "metadata": {},
     "output_type": "execute_result"
    }
   ],
   "source": [
    "max_contig_sum([3, 4, -8, 15, -1, 2])"
   ]
  },
  {
   "cell_type": "code",
   "execution_count": 171,
   "metadata": {
    "collapsed": false
   },
   "outputs": [
    {
     "data": {
      "text/plain": [
       "0.4144575097616586"
      ]
     },
     "execution_count": 171,
     "metadata": {},
     "output_type": "execute_result"
    }
   ],
   "source": [
    "import random\n",
    "random.random()"
   ]
  }
 ],
 "metadata": {
  "kernelspec": {
   "display_name": "Python 3",
   "language": "python",
   "name": "python3"
  },
  "language_info": {
   "codemirror_mode": {
    "name": "ipython",
    "version": 3
   },
   "file_extension": ".py",
   "mimetype": "text/x-python",
   "name": "python",
   "nbconvert_exporter": "python",
   "pygments_lexer": "ipython3",
   "version": "3.5.1"
  }
 },
 "nbformat": 4,
 "nbformat_minor": 0
}
